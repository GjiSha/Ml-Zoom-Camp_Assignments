{
  "nbformat": 4,
  "nbformat_minor": 0,
  "metadata": {
    "colab": {
      "provenance": []
    },
    "kernelspec": {
      "name": "python3",
      "display_name": "Python 3"
    },
    "language_info": {
      "name": "python"
    }
  },
  "cells": [
    {
      "cell_type": "code",
      "execution_count": null,
      "metadata": {
        "id": "NnyhWjTi1P37"
      },
      "outputs": [],
      "source": [
        "import pandas as pd\n",
        "\n",
        "df = pd.read_csv('laptops.csv')\n",
        "df.columns = df.columns.str.lower().str.replace(' ', '_')\n"
      ]
    },
    {
      "cell_type": "code",
      "source": [
        "df = df[['ram', 'storage', 'screen', 'final_price']]\n"
      ],
      "metadata": {
        "id": "0spaqF-F1TBy"
      },
      "execution_count": null,
      "outputs": []
    },
    {
      "cell_type": "code",
      "source": [
        "df.isnull().sum()\n"
      ],
      "metadata": {
        "id": "zRYbR8OM1Uxv"
      },
      "execution_count": null,
      "outputs": []
    },
    {
      "cell_type": "code",
      "source": [
        "df['ram'].median()\n"
      ],
      "metadata": {
        "id": "6i0TLMPg1WmE"
      },
      "execution_count": null,
      "outputs": []
    },
    {
      "cell_type": "code",
      "source": [
        "from sklearn.model_selection import train_test_split\n",
        "\n",
        "df = df.sample(frac=1, random_state=42)  # Shuffle the dataset with seed 42\n",
        "df_train, df_test = train_test_split(df, test_size=0.2, random_state=42)\n",
        "df_train, df_val = train_test_split(df_train, test_size=0.25, random_state=42)  # 0.25 * 0.8 = 0.2\n"
      ],
      "metadata": {
        "id": "KHQq__r71Yg_"
      },
      "execution_count": null,
      "outputs": []
    },
    {
      "cell_type": "code",
      "source": [
        "from sklearn.linear_model import LinearRegression\n",
        "from sklearn.metrics import mean_squared_error\n",
        "import numpy as np\n",
        "\n",
        "def train_and_evaluate(df_train, df_val, fill_value):\n",
        "    X_train = df_train.drop(columns=['final_price'])\n",
        "    y_train = df_train['final_price']\n",
        "\n",
        "    X_val = df_val.drop(columns=['final_price'])\n",
        "    y_val = df_val['final_price']\n",
        "\n",
        "    # Fill missing values\n",
        "    X_train['storage'] = X_train['storage'].fillna(fill_value)\n",
        "    X_val['storage'] = X_val['storage'].fillna(fill_value)\n",
        "\n",
        "    model = LinearRegression()\n",
        "    model.fit(X_train, y_train)\n",
        "\n",
        "    y_pred = model.predict(X_val)\n",
        "    rmse = np.sqrt(mean_squared_error(y_val, y_pred))\n",
        "    return rmse\n",
        "\n",
        "# Option 1: Fill with 0\n",
        "rmse_0 = train_and_evaluate(df_train, df_val, 0)\n",
        "\n",
        "# Option 2: Fill with mean\n",
        "mean_storage = df_train['storage'].mean()\n",
        "rmse_mean = train_and_evaluate(df_train, df_val, mean_storage)\n",
        "\n",
        "print(f\"RMSE with 0: {rmse_0:.2f}\")\n",
        "print(f\"RMSE with mean: {rmse_mean:.2f}\")\n"
      ],
      "metadata": {
        "id": "YcSibQbH1aJu"
      },
      "execution_count": null,
      "outputs": []
    },
    {
      "cell_type": "code",
      "source": [
        "from sklearn.linear_model import Ridge\n",
        "\n",
        "def train_and_evaluate_ridge(df_train, df_val, fill_value, r):\n",
        "    X_train = df_train.drop(columns=['final_price'])\n",
        "    y_train = df_train['final_price']\n",
        "\n",
        "    X_val = df_val.drop(columns=['final_price'])\n",
        "    y_val = df_val['final_price']\n",
        "\n",
        "    # Fill missing values\n",
        "    X_train['storage'] = X_train['storage'].fillna(fill_value)\n",
        "    X_val['storage'] = X_val['storage'].fillna(fill_value)\n",
        "\n",
        "    model = Ridge(alpha=r)\n",
        "    model.fit(X_train, y_train)\n",
        "\n",
        "    y_pred = model.predict(X_val)\n",
        "    rmse = np.sqrt(mean_squared_error(y_val, y_pred))\n",
        "    return rmse\n",
        "\n",
        "r_values = [0, 0.01, 0.1, 1, 5, 10, 100]\n",
        "rmse_results = {r: train_and_evaluate_ridge(df_train, df_val, 0, r) for r in r_values}\n",
        "\n",
        "for r, rmse in rmse_results.items():\n",
        "    print(f\"RMSE for r={r}: {rmse:.2f}\")\n"
      ],
      "metadata": {
        "id": "jZvShsxv1bkO"
      },
      "execution_count": null,
      "outputs": []
    },
    {
      "cell_type": "code",
      "source": [
        "seeds = range(10)\n",
        "rmse_scores = []\n",
        "\n",
        "for seed in seeds:\n",
        "    df_train, df_test = train_test_split(df, test_size=0.2, random_state=seed)\n",
        "    df_train, df_val = train_test_split(df_train, test_size=0.25, random_state=seed)\n",
        "    rmse = train_and_evaluate(df_train, df_val, 0)\n",
        "    rmse_scores.append(rmse)\n",
        "\n",
        "std_rmse = np.std(rmse_scores)\n",
        "print(f\"Standard deviation of RMSE: {std_rmse:.3f}\")\n"
      ],
      "metadata": {
        "id": "MYnXtuBQ1esE"
      },
      "execution_count": null,
      "outputs": []
    },
    {
      "cell_type": "code",
      "source": [
        "# Combine train and validation sets\n",
        "df_full_train = pd.concat([df_train, df_val])\n",
        "\n",
        "rmse_test = train_and_evaluate_ridge(df_full_train, df_test, 0, 0.001)\n",
        "print(f\"RMSE on test set: {rmse_test:.2f}\")\n"
      ],
      "metadata": {
        "id": "HQZGDdyU1gR8"
      },
      "execution_count": null,
      "outputs": []
    }
  ]
}